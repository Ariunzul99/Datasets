{
 "cells": [
  {
   "cell_type": "markdown",
   "id": "93b39628",
   "metadata": {},
   "source": [
    "# Imports"
   ]
  },
  {
   "cell_type": "code",
   "execution_count": 1,
   "id": "07055fad",
   "metadata": {},
   "outputs": [],
   "source": [
    "import pandas as pd\n",
    "import numpy as np\n",
    "from sklearn.model_selection import train_test_split, StratifiedKFold, cross_val_score\n",
    "from sklearn.ensemble import RandomForestClassifier\n",
    "from sklearn.linear_model import LogisticRegression\n",
    "from sklearn.metrics import (\n",
    "    accuracy_score, precision_score, recall_score, f1_score,\n",
    "    roc_auc_score, roc_curve, confusion_matrix, ConfusionMatrixDisplay\n",
    ")\n",
    "from sklearn.preprocessing import StandardScaler\n",
    "import matplotlib.pyplot as plt"
   ]
  },
  {
   "cell_type": "markdown",
   "id": "e5c3d35b",
   "metadata": {},
   "source": [
    "# Evaluation utilities"
   ]
  },
  {
   "cell_type": "code",
   "execution_count": 15,
   "id": "897ec8d7",
   "metadata": {},
   "outputs": [],
   "source": [
    "def evaluate_model(X, y, model, model_name, dataset_name=None, show_confusion=True, plot_importance=True):\n",
    "    \"\"\"Train/test split, fit model, compute metrics, return a dict of results.\n",
    "    - X: np.array or DataFrame\n",
    "    - y: Series/array-like\n",
    "    - model: sklearn-like estimator with fit/predict/predict_proba\n",
    "    \"\"\"\n",
    "    dataset_name = dataset_name or \"Dataset\"\n",
    "    print(f\"\\n{'='*30}\")\n",
    "    print(f\"Starting {model_name} Analysis for {dataset_name}...\")\n",
    "    print(f\"{'='*30}\")\n",
    "\n",
    "    # Stratified split to preserve class balance\n",
    "    X_train, X_test, y_train, y_test = train_test_split(\n",
    "        X, y, test_size=0.2, stratify=y, random_state=42\n",
    "    )\n",
    "\n",
    "    model.fit(X_train, y_train)\n",
    "    y_pred = model.predict(X_test)\n",
    "    # protect predict_proba call (some estimators may not implement it)\n",
    "    try:\n",
    "        y_prob = model.predict_proba(X_test)[:, 1]\n",
    "    except Exception:\n",
    "        # fallback: use decision_function if available\n",
    "        try:\n",
    "            y_score = model.decision_function(X_test)\n",
    "            # min-max transform to [0,1]\n",
    "            y_prob = (y_score - y_score.min()) / (y_score.max() - y_score.min())\n",
    "        except Exception:\n",
    "            y_prob = np.zeros_like(y_pred)\n",
    "\n",
    "    # metrics\n",
    "    acc = accuracy_score(y_test, y_pred)\n",
    "    precision = precision_score(y_test, y_pred, zero_division=0)\n",
    "    recall = recall_score(y_test, y_pred, zero_division=0)\n",
    "    f1 = f1_score(y_test, y_pred, zero_division=0)\n",
    "    roc_auc = roc_auc_score(y_test, y_prob) if len(np.unique(y_test)) > 1 else np.nan\n",
    "\n",
    "    print(f\"\\n{dataset_name} - {model_name}\")\n",
    "    print(f\"Accuracy: {acc:.4f}\")\n",
    "    print(f\"Precision: {precision:.4f}\")\n",
    "    print(f\"Recall: {recall:.4f}\")\n",
    "    print(f\"F1-Score: {f1:.4f}\")\n",
    "    print(f\"ROC AUC: {roc_auc:.4f}\")\n",
    "\n",
    "    if show_confusion:\n",
    "        cm = confusion_matrix(y_test, y_pred)\n",
    "        disp = ConfusionMatrixDisplay(confusion_matrix=cm)\n",
    "        disp.plot()\n",
    "        plt.title(f\"Confusion Matrix: {model_name} ({dataset_name})\")\n",
    "        plt.show()\n",
    "\n",
    "    # cross-val estimates (stratified kfold)\n",
    "    skf = StratifiedKFold(n_splits=5, shuffle=True, random_state=42)\n",
    "    cv_acc = cross_val_score(model, X, y, cv=skf, scoring='accuracy')\n",
    "    cv_auc = cross_val_score(model, X, y, cv=skf, scoring='roc_auc')\n",
    "    print(f\"Cross-validated Accuracy (mean): {cv_acc.mean():.4f}\")\n",
    "    print(f\"Cross-validated ROC AUC (mean): {cv_auc.mean():.4f}\")\n",
    "\n",
    "    # feature importance if available\n",
    "    if plot_importance and hasattr(model, 'feature_importances_'):\n",
    "        if isinstance(X, np.ndarray):\n",
    "            feature_names = [f\"X{i}\" for i in range(X.shape[1])]\n",
    "        else:\n",
    "            feature_names = X.columns\n",
    "        importances = pd.Series(model.feature_importances_, index=feature_names)\n",
    "        importances.sort_values(ascending=False).head(10).plot(kind='bar', figsize=(10,4))\n",
    "        plt.title(f\"Top feature importances: {model_name} ({dataset_name})\")\n",
    "        plt.tight_layout()\n",
    "        plt.show()\n",
    "\n",
    "    fpr, tpr, _ = roc_curve(y_test, y_prob)\n",
    "    return {\n",
    "        'accuracy': acc, 'precision': precision, 'recall': recall, 'f1': f1, 'roc_auc': roc_auc,\n",
    "        'cv_acc': cv_acc.mean(), 'cv_auc': cv_auc.mean(), 'fpr': fpr, 'tpr': tpr, 'model': model\n",
    "    }"
   ]
  },
  {
   "cell_type": "code",
   "execution_count": null,
   "id": "7587931a",
   "metadata": {},
   "outputs": [],
   "source": []
  },
  {
   "cell_type": "markdown",
   "id": "d2eef992",
   "metadata": {},
   "source": [
    "# Load German credit dataset"
   ]
  },
  {
   "cell_type": "code",
   "execution_count": 3,
   "id": "17f6e6e2",
   "metadata": {},
   "outputs": [
    {
     "name": "stdout",
     "output_type": "stream",
     "text": [
      "German dataset shape: (1000, 21)\n"
     ]
    }
   ],
   "source": [
    "german_df = pd.read_csv(\"german_credit.csv\")\n",
    "\n",
    "# Encode categorical columns to numeric codes (original notebook did this)\n",
    "for col in german_df.columns:\n",
    "    if german_df[col].dtype == 'object':\n",
    "        german_df[col] = german_df[col].astype('category').cat.codes\n",
    "\n",
    "print(\"German dataset shape:\", german_df.shape)"
   ]
  },
  {
   "cell_type": "markdown",
   "id": "70d4c05f",
   "metadata": {},
   "source": [
    "# Prepare features and target"
   ]
  },
  {
   "cell_type": "code",
   "execution_count": 4,
   "id": "4504d413",
   "metadata": {},
   "outputs": [
    {
     "name": "stdout",
     "output_type": "stream",
     "text": [
      "Value counts for target (y_german):\n",
      "0    700\n",
      "1    300\n",
      "Name: CreditRisk, dtype: int64\n"
     ]
    }
   ],
   "source": [
    "y_german = (german_df[\"CreditRisk\"] == 2).astype(int)  # 1 = high risk, 0 = low risk\n",
    "X_german = german_df.drop(\"CreditRisk\", axis=1)\n",
    "print(\"Value counts for target (y_german):\")\n",
    "print(y_german.value_counts())\n",
    "\n",
    "# Standardize features\n",
    "scaler_g = StandardScaler()\n",
    "X_german_scaled = scaler_g.fit_transform(X_german)"
   ]
  },
  {
   "cell_type": "markdown",
   "id": "c04c1eb4",
   "metadata": {},
   "source": [
    "# Models initialization for German dataset"
   ]
  },
  {
   "cell_type": "code",
   "execution_count": 5,
   "id": "2baf1d16",
   "metadata": {},
   "outputs": [],
   "source": [
    "rf_g = RandomForestClassifier(random_state=42)\n",
    "lr_g = LogisticRegression(max_iter=5000, random_state=42)"
   ]
  },
  {
   "cell_type": "markdown",
   "id": "efd69fd8",
   "metadata": {},
   "source": [
    "# German Credit — Run evaluations"
   ]
  },
  {
   "cell_type": "code",
   "execution_count": 7,
   "id": "4cf99ea6",
   "metadata": {},
   "outputs": [
    {
     "name": "stdout",
     "output_type": "stream",
     "text": [
      "\n",
      "==============================\n",
      "Starting Random Forest Analysis for German Credit...\n",
      "==============================\n",
      "\n",
      "German Credit - Random Forest\n",
      "Accuracy: 0.7650\n",
      "Precision: 0.6757\n",
      "Recall: 0.4167\n",
      "F1-Score: 0.5155\n",
      "ROC AUC: 0.7783\n"
     ]
    },
    {
     "data": {
      "image/png": "[encoded data removed]",
      "text/plain": [
       "<Figure size 432x288 with 2 Axes>"
      ]
     },
     "metadata": {
      "needs_background": "light"
     },
     "output_type": "display_data"
    },
    {
     "name": "stdout",
     "output_type": "stream",
     "text": [
      "Cross-validated Accuracy (mean): 0.7630\n",
      "Cross-validated ROC AUC (mean): 0.7966\n"
     ]
    },
    {
     "data": {
      "image/png": "[encoded data removed]",
      "text/plain": [
       "<Figure size 720x288 with 1 Axes>"
      ]
     },
     "metadata": {
      "needs_background": "light"
     },
     "output_type": "display_data"
    },
    {
     "name": "stdout",
     "output_type": "stream",
     "text": [
      "\n",
      "==============================\n",
      "Starting Logistic Regression Analysis for German Credit...\n",
      "==============================\n",
      "\n",
      "German Credit - Logistic Regression\n",
      "Accuracy: 0.7650\n",
      "Precision: 0.6275\n",
      "Recall: 0.5333\n",
      "F1-Score: 0.5766\n",
      "ROC AUC: 0.7901\n"
     ]
    },
    {
     "data": {
      "image/png": "[encoded data removed]",
      "text/plain": [
       "<Figure size 432x288 with 2 Axes>"
      ]
     },
     "metadata": {
      "needs_background": "light"
     },
     "output_type": "display_data"
    },
    {
     "name": "stdout",
     "output_type": "stream",
     "text": [
      "Cross-validated Accuracy (mean): 0.7630\n",
      "Cross-validated ROC AUC (mean): 0.7831\n"
     ]
    }
   ],
   "source": [
    "results_german_rf = evaluate_model(X_german_scaled, y_german, rf_g, 'Random Forest', dataset_name='German Credit')\n",
    "results_german_lr = evaluate_model(X_german_scaled, y_german, lr_g, 'Logistic Regression', dataset_name='German Credit')"
   ]
  },
  {
   "cell_type": "markdown",
   "id": "ad07a35f",
   "metadata": {},
   "source": [
    "# German Credit — Interpretability (Logistic coefficients + comparison)"
   ]
  },
  {
   "cell_type": "code",
   "execution_count": 8,
   "id": "aee3702f",
   "metadata": {},
   "outputs": [
    {
     "name": "stdout",
     "output_type": "stream",
     "text": [
      "Logistic Regression coefficients (sorted by absolute importance):\n",
      "StatusExistingChecking   -0.675894\n",
      "SavingsAccountBonds      -0.438342\n",
      "CreditHistory            -0.389744\n",
      "InstallmentRate           0.347917\n",
      "DurationMonths            0.294050\n",
      "Property                  0.288820\n",
      "OtherInstallmentPlans    -0.264263\n",
      "Housing                  -0.249471\n",
      "ForeignWorker            -0.244043\n",
      "EmploymentSince          -0.233540\n",
      "CreditAmount              0.221979\n",
      "PersonalStatusSex        -0.214470\n",
      "Telephone                -0.168438\n",
      "PeopleLiable              0.092514\n",
      "NumberExistingCredits     0.091158\n",
      "OtherDebtorsGuarantors   -0.086539\n",
      "Purpose                  -0.032162\n",
      "Job                      -0.017057\n",
      "ResidenceSince            0.006217\n",
      "Age                      -0.001157\n",
      "dtype: float64\n",
      "\n",
      "Top 10 Features Comparison:\n",
      "                        Random_Forest_Importance  \\\n",
      "CreditAmount                            0.135560   \n",
      "StatusExistingChecking                  0.104528   \n",
      "Age                                     0.103649   \n",
      "DurationMonths                          0.092479   \n",
      "Purpose                                 0.057672   \n",
      "EmploymentSince                         0.056674   \n",
      "CreditHistory                           0.056646   \n",
      "SavingsAccountBonds                     0.051427   \n",
      "Property                                0.047722   \n",
      "InstallmentRate                         0.043794   \n",
      "\n",
      "                        Logistic_Regression_AbsCoeff  \\\n",
      "CreditAmount                                0.221979   \n",
      "StatusExistingChecking                      0.675894   \n",
      "Age                                         0.001157   \n",
      "DurationMonths                              0.294050   \n",
      "Purpose                                     0.032162   \n",
      "EmploymentSince                             0.233540   \n",
      "CreditHistory                               0.389744   \n",
      "SavingsAccountBonds                         0.438342   \n",
      "Property                                    0.288820   \n",
      "InstallmentRate                             0.347917   \n",
      "\n",
      "                        Logistic_Regression_Coeff  \n",
      "CreditAmount                             0.221979  \n",
      "StatusExistingChecking                  -0.675894  \n",
      "Age                                     -0.001157  \n",
      "DurationMonths                           0.294050  \n",
      "Purpose                                 -0.032162  \n",
      "EmploymentSince                         -0.233540  \n",
      "CreditHistory                           -0.389744  \n",
      "SavingsAccountBonds                     -0.438342  \n",
      "Property                                 0.288820  \n",
      "InstallmentRate                          0.347917  \n",
      "\n",
      "Saved german_credit_logistic_coefficients.csv\n"
     ]
    }
   ],
   "source": [
    "if results_german_lr is not None:\n",
    "    # Refit logistic regression to extract coefficients\n",
    "    X_train, X_test, y_train, y_test = train_test_split(\n",
    "        X_german_scaled, y_german, test_size=0.2, stratify=y_german, random_state=42\n",
    "    )\n",
    "    lr_fitted = LogisticRegression(max_iter=5000, random_state=42)\n",
    "    lr_fitted.fit(X_train, y_train)\n",
    "\n",
    "    feature_names = X_german.columns if hasattr(X_german, 'columns') else [f'X{i}' for i in range(X_german_scaled.shape[1])]\n",
    "    coefficients = pd.Series(lr_fitted.coef_.ravel(), index=feature_names)\n",
    "    coefficients_sorted = coefficients.sort_values(key=abs, ascending=False)\n",
    "    print('Logistic Regression coefficients (sorted by absolute importance):')\n",
    "    print(coefficients_sorted.round(6))\n",
    "\n",
    "    # Refit Random Forest to get importances for comparison\n",
    "    rf_fitted = RandomForestClassifier(random_state=42)\n",
    "    rf_fitted.fit(X_train, y_train)\n",
    "    rf_importance = pd.Series(rf_fitted.feature_importances_, index=feature_names)\n",
    "    lr_importance = coefficients.abs()\n",
    "\n",
    "    comparison_df = pd.DataFrame({\n",
    "        'Random_Forest_Importance': rf_importance,\n",
    "        'Logistic_Regression_AbsCoeff': lr_importance,\n",
    "        'Logistic_Regression_Coeff': coefficients\n",
    "    }).sort_values('Random_Forest_Importance', ascending=False)\n",
    "\n",
    "    print('\\nTop 10 Features Comparison:')\n",
    "    print(comparison_df.head(10).round(6))\n",
    "\n",
    "    # Save coefficients for external analysis\n",
    "    coefficients_df = pd.DataFrame({\n",
    "        'Feature': coefficients_sorted.index,\n",
    "        'Coefficient': coefficients_sorted.values,\n",
    "        'Abs_Coefficient': coefficients_sorted.abs().values\n",
    "    })\n",
    "    coefficients_df.to_csv('german_credit_logistic_coefficients.csv', index=False)\n",
    "    print('\\nSaved german_credit_logistic_coefficients.csv')\n",
    "else:\n",
    "    print(\"Logistic Regression results missing; cannot compute interpretability for German dataset.\")"
   ]
  },
  {
   "cell_type": "markdown",
   "id": "726bd2b1",
   "metadata": {},
   "source": [
    "# Credit Card Default — Load & Clean"
   ]
  },
  {
   "cell_type": "code",
   "execution_count": 9,
   "id": "a9e1ab44",
   "metadata": {},
   "outputs": [
    {
     "name": "stdout",
     "output_type": "stream",
     "text": [
      "Credit card dataset shape: (30000, 23)\n"
     ]
    }
   ],
   "source": [
    "cc_df = pd.read_csv(\"default-of-credit-card-clients-2.csv\")\n",
    "\n",
    "# The original notebook removed a duplicate header row at index=0\n",
    "cc_df = cc_df.drop(index=0).copy()\n",
    "\n",
    "# Drop ID-like columns if present\n",
    "cols_to_drop = []\n",
    "for col in ['Unnamed: 0', 'X1']:\n",
    "    if col in cc_df.columns:\n",
    "        cols_to_drop.append(col)\n",
    "if cols_to_drop:\n",
    "    cc_df = cc_df.drop(columns=cols_to_drop)\n",
    "\n",
    "# Rename target if needed\n",
    "if 'Y' in cc_df.columns:\n",
    "    cc_df = cc_df.rename(columns={'Y': 'target'})\n",
    "\n",
    "# Convert to numeric and drop missing rows\n",
    "cc_df = cc_df.apply(pd.to_numeric, errors='coerce')\n",
    "cc_df = cc_df.dropna()\n",
    "print('Credit card dataset shape:', cc_df.shape)"
   ]
  },
  {
   "cell_type": "markdown",
   "id": "9b2307dc",
   "metadata": {},
   "source": [
    "# Preprocessing"
   ]
  },
  {
   "cell_type": "code",
   "execution_count": 10,
   "id": "3ccbaf7f",
   "metadata": {},
   "outputs": [
    {
     "name": "stdout",
     "output_type": "stream",
     "text": [
      "Value counts for y_cc:\n",
      "0    23364\n",
      "1     6636\n",
      "Name: target, dtype: int64\n"
     ]
    }
   ],
   "source": [
    "target_col_cc = 'target'\n",
    "y_cc = cc_df[target_col_cc].astype(int)\n",
    "X_cc = cc_df.drop(columns=[target_col_cc])\n",
    "print(\"Value counts for y_cc:\")\n",
    "print(y_cc.value_counts())\n",
    "\n",
    "scaler_c = StandardScaler()\n",
    "X_cc_scaled = scaler_c.fit_transform(X_cc)"
   ]
  },
  {
   "cell_type": "markdown",
   "id": "b133686a",
   "metadata": {},
   "source": [
    "# Models initialization "
   ]
  },
  {
   "cell_type": "code",
   "execution_count": 11,
   "id": "2c1466b5",
   "metadata": {},
   "outputs": [],
   "source": [
    "rf_c = RandomForestClassifier(random_state=42)\n",
    "lr_c = LogisticRegression(max_iter=5000, random_state=42)"
   ]
  },
  {
   "cell_type": "markdown",
   "id": "fc529991",
   "metadata": {},
   "source": [
    "# Run evaluations"
   ]
  },
  {
   "cell_type": "code",
   "execution_count": 12,
   "id": "fd8522a8",
   "metadata": {},
   "outputs": [
    {
     "name": "stdout",
     "output_type": "stream",
     "text": [
      "\n",
      "==============================\n",
      "Starting Random Forest Analysis for Credit Card Default...\n",
      "==============================\n",
      "\n",
      "Credit Card Default - Random Forest\n",
      "Accuracy: 0.8095\n",
      "Precision: 0.6207\n",
      "Recall: 0.3564\n",
      "F1-Score: 0.4528\n",
      "ROC AUC: 0.7443\n"
     ]
    },
    {
     "data": {
      "image/png": "[encoded data removed]",
      "text/plain": [
       "<Figure size 432x288 with 2 Axes>"
      ]
     },
     "metadata": {
      "needs_background": "light"
     },
     "output_type": "display_data"
    },
    {
     "name": "stdout",
     "output_type": "stream",
     "text": [
      "Cross-validated Accuracy (mean): 0.8147\n",
      "Cross-validated ROC AUC (mean): 0.7542\n"
     ]
    },
    {
     "data": {
      "image/png": "[encoded data removed]",
      "text/plain": [
       "<Figure size 720x288 with 1 Axes>"
      ]
     },
     "metadata": {
      "needs_background": "light"
     },
     "output_type": "display_data"
    },
    {
     "name": "stdout",
     "output_type": "stream",
     "text": [
      "\n",
      "==============================\n",
      "Starting Logistic Regression Analysis for Credit Card Default...\n",
      "==============================\n",
      "\n",
      "Credit Card Default - Logistic Regression\n",
      "Accuracy: 0.8093\n",
      "Precision: 0.6976\n",
      "Recall: 0.2434\n",
      "F1-Score: 0.3609\n",
      "ROC AUC: 0.7069\n"
     ]
    },
    {
     "data": {
      "image/png": "[encoded data removed]",
      "text/plain": [
       "<Figure size 432x288 with 2 Axes>"
      ]
     },
     "metadata": {
      "needs_background": "light"
     },
     "output_type": "display_data"
    },
    {
     "name": "stdout",
     "output_type": "stream",
     "text": [
      "Cross-validated Accuracy (mean): 0.8102\n",
      "Cross-validated ROC AUC (mean): 0.7200\n"
     ]
    }
   ],
   "source": [
    "results_cc_rf = evaluate_model(X_cc_scaled, y_cc, rf_c, 'Random Forest', dataset_name='Credit Card Default')\n",
    "results_cc_lr = evaluate_model(X_cc_scaled, y_cc, lr_c, 'Logistic Regression', dataset_name='Credit Card Default')"
   ]
  },
  {
   "cell_type": "markdown",
   "id": "ca2959fc",
   "metadata": {},
   "source": [
    "# Interpretability (Logistic coefficients)"
   ]
  },
  {
   "cell_type": "code",
   "execution_count": 13,
   "id": "e03cf96c",
   "metadata": {},
   "outputs": [
    {
     "name": "stdout",
     "output_type": "stream",
     "text": [
      "Logistic Regression coefficients (sorted by absolute importance):\n",
      "X6     0.665933\n",
      "X12   -0.345078\n",
      "X19   -0.227999\n",
      "X18   -0.220652\n",
      "X7     0.107961\n",
      "X8     0.104848\n",
      "X13    0.092638\n",
      "X3    -0.071100\n",
      "X9     0.065726\n",
      "X4    -0.062695\n",
      "X5     0.062470\n",
      "X14    0.060963\n",
      "X2    -0.059450\n",
      "X21   -0.050714\n",
      "X20   -0.044057\n",
      "X23   -0.042919\n",
      "X22   -0.036646\n",
      "X15    0.034815\n",
      "X11    0.027135\n",
      "X16    0.008918\n",
      "X10    0.005211\n",
      "X17   -0.004838\n",
      "dtype: float64\n",
      "\n",
      "Top 5 Positive Coefficients (increase default probability):\n",
      "  X6: 0.665933\n",
      "  X7: 0.107961\n",
      "  X8: 0.104848\n",
      "  X13: 0.092638\n",
      "  X9: 0.065726\n",
      "\n",
      "Top 5 Negative Coefficients (decrease default probability):\n",
      "  X12: -0.345078\n",
      "  X19: -0.227999\n",
      "  X18: -0.220652\n",
      "  X3: -0.071100\n",
      "  X4: -0.062695\n"
     ]
    }
   ],
   "source": [
    "if results_cc_lr is not None:\n",
    "    # Refit on a train split to get coefficients\n",
    "    X_train, X_test, y_train, y_test = train_test_split(\n",
    "        X_cc_scaled, y_cc, test_size=0.2, stratify=y_cc, random_state=42\n",
    "    )\n",
    "    lr_fitted = LogisticRegression(max_iter=5000, random_state=42)\n",
    "    lr_fitted.fit(X_train, y_train)\n",
    "\n",
    "    # If original X has named columns use them, otherwise generate X1..Xn\n",
    "    feature_names = X_cc.columns if hasattr(X_cc, 'columns') else [f'X{i}' for i in range(X_cc_scaled.shape[1])]\n",
    "    coefficients = pd.Series(lr_fitted.coef_.ravel(), index=feature_names)\n",
    "    coeffs_sorted = coefficients.sort_values(key=abs, ascending=False)\n",
    "    print('Logistic Regression coefficients (sorted by absolute importance):')\n",
    "    print(coeffs_sorted.round(6))\n",
    "\n",
    "    print('\\nTop 5 Positive Coefficients (increase default probability):')\n",
    "    pos = coeffs_sorted[coeffs_sorted > 0].head(5)\n",
    "    for feature, coef in pos.items():\n",
    "        print(f\"  {feature}: {coef:.6f}\")\n",
    "\n",
    "    print('\\nTop 5 Negative Coefficients (decrease default probability):')\n",
    "    neg = coeffs_sorted[coeffs_sorted < 0].head(5)\n",
    "    for feature, coef in neg.items():\n",
    "        print(f\"  {feature}: {coef:.6f}\")\n",
    "else:\n",
    "    print(\"Logistic Regression results missing; cannot compute interpretability for Credit Card dataset.\")"
   ]
  },
  {
   "cell_type": "code",
   "execution_count": null,
   "id": "de9e71fc",
   "metadata": {},
   "outputs": [],
   "source": []
  }
 ],
 "metadata": {
  "kernelspec": {
   "display_name": "Python 3 (ipykernel)",
   "language": "python",
   "name": "python3"
  },
  "language_info": {
   "codemirror_mode": {
    "name": "ipython",
    "version": 3
   },
   "file_extension": ".py",
   "mimetype": "text/x-python",
   "name": "python",
   "nbconvert_exporter": "python",
   "pygments_lexer": "ipython3",
   "version": "3.9.7"
  }
 },
 "nbformat": 4,
 "nbformat_minor": 5
}
