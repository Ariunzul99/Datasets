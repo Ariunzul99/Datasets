{
 "cells": [
  {
   "cell_type": "markdown",
   "id": "08372ec5",
   "metadata": {},
   "source": [
    "# Credit Default: Logistic Regression (scaled) vs Random Forest\n",
    "\n",
    "**Optimized for ~30,000 rows.** This notebook:\n",
    "- Cleans the provided dataset\n",
    "- Uses a `StandardScaler + LogisticRegression` pipeline (more iterations so it converges)\n",
    "- Trains a `RandomForestClassifier`\n",
    "- Reports Accuracy, Precision, Recall, F1, ROC‑AUC\n",
    "- Plots ROC curves and separate confusion matrices (matplotlib only)\n",
    "\n",
    "> Set the `file_path` if your CSV is in a different folder."
   ]
  },
  {
   "cell_type": "code",
   "execution_count": 1,
   "id": "317ecd54",
   "metadata": {},
   "outputs": [
    {
     "data": {
      "text/html": [
       "<div>\n",
       "<style scoped>\n",
       "    .dataframe tbody tr th:only-of-type {\n",
       "        vertical-align: middle;\n",
       "    }\n",
       "\n",
       "    .dataframe tbody tr th {\n",
       "        vertical-align: top;\n",
       "    }\n",
       "\n",
       "    .dataframe thead th {\n",
       "        text-align: right;\n",
       "    }\n",
       "</style>\n",
       "<table border=\"1\" class=\"dataframe\">\n",
       "  <thead>\n",
       "    <tr style=\"text-align: right;\">\n",
       "      <th></th>\n",
       "      <th>Unnamed: 0</th>\n",
       "      <th>X1</th>\n",
       "      <th>X2</th>\n",
       "      <th>X3</th>\n",
       "      <th>X4</th>\n",
       "      <th>X5</th>\n",
       "      <th>X6</th>\n",
       "      <th>X7</th>\n",
       "      <th>X8</th>\n",
       "      <th>X9</th>\n",
       "      <th>...</th>\n",
       "      <th>X15</th>\n",
       "      <th>X16</th>\n",
       "      <th>X17</th>\n",
       "      <th>X18</th>\n",
       "      <th>X19</th>\n",
       "      <th>X20</th>\n",
       "      <th>X21</th>\n",
       "      <th>X22</th>\n",
       "      <th>X23</th>\n",
       "      <th>Y</th>\n",
       "    </tr>\n",
       "  </thead>\n",
       "  <tbody>\n",
       "    <tr>\n",
       "      <th>0</th>\n",
       "      <td>ID</td>\n",
       "      <td>LIMIT_BAL</td>\n",
       "      <td>SEX</td>\n",
       "      <td>EDUCATION</td>\n",
       "      <td>MARRIAGE</td>\n",
       "      <td>AGE</td>\n",
       "      <td>PAY_0</td>\n",
       "      <td>PAY_2</td>\n",
       "      <td>PAY_3</td>\n",
       "      <td>PAY_4</td>\n",
       "      <td>...</td>\n",
       "      <td>BILL_AMT4</td>\n",
       "      <td>BILL_AMT5</td>\n",
       "      <td>BILL_AMT6</td>\n",
       "      <td>PAY_AMT1</td>\n",
       "      <td>PAY_AMT2</td>\n",
       "      <td>PAY_AMT3</td>\n",
       "      <td>PAY_AMT4</td>\n",
       "      <td>PAY_AMT5</td>\n",
       "      <td>PAY_AMT6</td>\n",
       "      <td>default payment next month</td>\n",
       "    </tr>\n",
       "    <tr>\n",
       "      <th>1</th>\n",
       "      <td>1</td>\n",
       "      <td>20000</td>\n",
       "      <td>2</td>\n",
       "      <td>2</td>\n",
       "      <td>1</td>\n",
       "      <td>24</td>\n",
       "      <td>2</td>\n",
       "      <td>2</td>\n",
       "      <td>-1</td>\n",
       "      <td>-1</td>\n",
       "      <td>...</td>\n",
       "      <td>0</td>\n",
       "      <td>0</td>\n",
       "      <td>0</td>\n",
       "      <td>0</td>\n",
       "      <td>689</td>\n",
       "      <td>0</td>\n",
       "      <td>0</td>\n",
       "      <td>0</td>\n",
       "      <td>0</td>\n",
       "      <td>1</td>\n",
       "    </tr>\n",
       "    <tr>\n",
       "      <th>2</th>\n",
       "      <td>2</td>\n",
       "      <td>120000</td>\n",
       "      <td>2</td>\n",
       "      <td>2</td>\n",
       "      <td>2</td>\n",
       "      <td>26</td>\n",
       "      <td>-1</td>\n",
       "      <td>2</td>\n",
       "      <td>0</td>\n",
       "      <td>0</td>\n",
       "      <td>...</td>\n",
       "      <td>3272</td>\n",
       "      <td>3455</td>\n",
       "      <td>3261</td>\n",
       "      <td>0</td>\n",
       "      <td>1000</td>\n",
       "      <td>1000</td>\n",
       "      <td>1000</td>\n",
       "      <td>0</td>\n",
       "      <td>2000</td>\n",
       "      <td>1</td>\n",
       "    </tr>\n",
       "    <tr>\n",
       "      <th>3</th>\n",
       "      <td>3</td>\n",
       "      <td>90000</td>\n",
       "      <td>2</td>\n",
       "      <td>2</td>\n",
       "      <td>2</td>\n",
       "      <td>34</td>\n",
       "      <td>0</td>\n",
       "      <td>0</td>\n",
       "      <td>0</td>\n",
       "      <td>0</td>\n",
       "      <td>...</td>\n",
       "      <td>14331</td>\n",
       "      <td>14948</td>\n",
       "      <td>15549</td>\n",
       "      <td>1518</td>\n",
       "      <td>1500</td>\n",
       "      <td>1000</td>\n",
       "      <td>1000</td>\n",
       "      <td>1000</td>\n",
       "      <td>5000</td>\n",
       "      <td>0</td>\n",
       "    </tr>\n",
       "    <tr>\n",
       "      <th>4</th>\n",
       "      <td>4</td>\n",
       "      <td>50000</td>\n",
       "      <td>2</td>\n",
       "      <td>2</td>\n",
       "      <td>1</td>\n",
       "      <td>37</td>\n",
       "      <td>0</td>\n",
       "      <td>0</td>\n",
       "      <td>0</td>\n",
       "      <td>0</td>\n",
       "      <td>...</td>\n",
       "      <td>28314</td>\n",
       "      <td>28959</td>\n",
       "      <td>29547</td>\n",
       "      <td>2000</td>\n",
       "      <td>2019</td>\n",
       "      <td>1200</td>\n",
       "      <td>1100</td>\n",
       "      <td>1069</td>\n",
       "      <td>1000</td>\n",
       "      <td>0</td>\n",
       "    </tr>\n",
       "  </tbody>\n",
       "</table>\n",
       "<p>5 rows × 25 columns</p>\n",
       "</div>"
      ],
      "text/plain": [
       "  Unnamed: 0         X1   X2         X3        X4   X5     X6     X7     X8  \\\n",
       "0         ID  LIMIT_BAL  SEX  EDUCATION  MARRIAGE  AGE  PAY_0  PAY_2  PAY_3   \n",
       "1          1      20000    2          2         1   24      2      2     -1   \n",
       "2          2     120000    2          2         2   26     -1      2      0   \n",
       "3          3      90000    2          2         2   34      0      0      0   \n",
       "4          4      50000    2          2         1   37      0      0      0   \n",
       "\n",
       "      X9  ...        X15        X16        X17       X18       X19       X20  \\\n",
       "0  PAY_4  ...  BILL_AMT4  BILL_AMT5  BILL_AMT6  PAY_AMT1  PAY_AMT2  PAY_AMT3   \n",
       "1     -1  ...          0          0          0         0       689         0   \n",
       "2      0  ...       3272       3455       3261         0      1000      1000   \n",
       "3      0  ...      14331      14948      15549      1518      1500      1000   \n",
       "4      0  ...      28314      28959      29547      2000      2019      1200   \n",
       "\n",
       "        X21       X22       X23                           Y  \n",
       "0  PAY_AMT4  PAY_AMT5  PAY_AMT6  default payment next month  \n",
       "1         0         0         0                           1  \n",
       "2      1000         0      2000                           1  \n",
       "3      1000      1000      5000                           0  \n",
       "4      1100      1069      1000                           0  \n",
       "\n",
       "[5 rows x 25 columns]"
      ]
     },
     "execution_count": 1,
     "metadata": {},
     "output_type": "execute_result"
    }
   ],
   "source": [
    "import pandas as pd\n",
    "import numpy as np\n",
    "from sklearn.model_selection import train_test_split\n",
    "from sklearn.pipeline import Pipeline\n",
    "from sklearn.preprocessing import StandardScaler\n",
    "from sklearn.linear_model import LogisticRegression\n",
    "from sklearn.ensemble import RandomForestClassifier\n",
    "from sklearn.metrics import (accuracy_score, precision_score, recall_score, f1_score,\n",
    "                             roc_auc_score, roc_curve, confusion_matrix, classification_report)\n",
    "import matplotlib.pyplot as plt\n",
    "\n",
    "# 1) Load data\n",
    "file_path = '/Users/ariunzul/Downloads/default-of-credit-card-clients-2.csv'  # change if needed\n",
    "df = pd.read_csv(file_path)\n",
    "df.head()"
   ]
  },
  {
   "cell_type": "code",
   "execution_count": 2,
   "id": "bc3569fc",
   "metadata": {},
   "outputs": [
    {
     "data": {
      "text/plain": [
       "((21000, 22), (9000, 22), 0.2211904761904762, 0.2212222222222222)"
      ]
     },
     "execution_count": 2,
     "metadata": {},
     "output_type": "execute_result"
    }
   ],
   "source": [
    "# 2) Clean & prepare features/target\n",
    "# The first row contains the original header values; drop it.\n",
    "df_clean = df.drop(index=0).copy()\n",
    "\n",
    "# Drop ID-like columns\n",
    "cols_to_drop = []\n",
    "for col in ['Unnamed: 0', 'X1']:\n",
    "    if col in df_clean.columns:\n",
    "        cols_to_drop.append(col)\n",
    "if cols_to_drop:\n",
    "    df_clean = df_clean.drop(columns=cols_to_drop)\n",
    "\n",
    "# Rename target column\n",
    "if 'Y' in df_clean.columns:\n",
    "    df_clean = df_clean.rename(columns={'Y': 'target'})\n",
    "\n",
    "# Ensure numeric types\n",
    "df_clean = df_clean.apply(pd.to_numeric, errors='coerce')\n",
    "df_clean = df_clean.dropna()  # simple drop of any NaNs after coercion\n",
    "\n",
    "X = df_clean.drop(columns=['target'])\n",
    "y = df_clean['target'].astype(int)\n",
    "\n",
    "X_train, X_test, y_train, y_test = train_test_split(\n",
    "    X, y, test_size=0.3, random_state=42, stratify=y\n",
    ")\n",
    "X_train.shape, X_test.shape, y_train.mean(), y_test.mean()"
   ]
  },
  {
   "cell_type": "code",
   "execution_count": 3,
   "id": "4d51ff62",
   "metadata": {},
   "outputs": [
    {
     "data": {
      "text/plain": [
       "{'Accuracy': 0.809,\n",
       " 'Precision': 0.700589970501475,\n",
       " 'Recall': 0.23857358111501759,\n",
       " 'F1': 0.35593855376545525,\n",
       " 'ROC_AUC': 0.7124628240407558}"
      ]
     },
     "execution_count": 3,
     "metadata": {},
     "output_type": "execute_result"
    }
   ],
   "source": [
    "# 3) Logistic Regression (scaled) — tuned for convergence on ~30k rows\n",
    "log_reg_pipe = Pipeline([\n",
    "    ('scaler', StandardScaler(with_mean=True, with_std=True)),\n",
    "    ('logreg', LogisticRegression(\n",
    "        solver='lbfgs',          # fast & stable for dense data\n",
    "        penalty='l2',            # default\n",
    "        C=1.0,\n",
    "        max_iter=5000,           # plenty of iterations to avoid warnings\n",
    "        n_jobs=None,             # lbfgs ignores n_jobs; keep None\n",
    "        class_weight=None,       # set to 'balanced' if you need it\n",
    "        tol=1e-4\n",
    "    ))\n",
    "])\n",
    "log_reg_pipe.fit(X_train, y_train)\n",
    "y_pred_log = log_reg_pipe.predict(X_test)\n",
    "y_proba_log = log_reg_pipe.predict_proba(X_test)[:, 1]\n",
    "\n",
    "log_metrics = {\n",
    "    'Accuracy': accuracy_score(y_test, y_pred_log),\n",
    "    'Precision': precision_score(y_test, y_pred_log, zero_division=0),\n",
    "    'Recall': recall_score(y_test, y_pred_log, zero_division=0),\n",
    "    'F1': f1_score(y_test, y_pred_log, zero_division=0),\n",
    "    'ROC_AUC': roc_auc_score(y_test, y_proba_log)\n",
    "}\n",
    "log_metrics"
   ]
  },
  {
   "cell_type": "code",
   "execution_count": 4,
   "id": "bedb77a5",
   "metadata": {},
   "outputs": [
    {
     "data": {
      "text/plain": [
       "{'Accuracy': 0.8158888888888889,\n",
       " 'Precision': 0.6459790209790209,\n",
       " 'Recall': 0.3711702661978905,\n",
       " 'F1': 0.47145135566188195,\n",
       " 'ROC_AUC': 0.7498492825361438}"
      ]
     },
     "execution_count": 4,
     "metadata": {},
     "output_type": "execute_result"
    }
   ],
   "source": [
    "# 4) Random Forest\n",
    "rf_clf = RandomForestClassifier(\n",
    "    n_estimators=300,\n",
    "    max_depth=None,\n",
    "    min_samples_split=2,\n",
    "    min_samples_leaf=1,\n",
    "    max_features='sqrt',\n",
    "    random_state=42,\n",
    "    n_jobs=-1\n",
    ")\n",
    "rf_clf.fit(X_train, y_train)\n",
    "y_pred_rf = rf_clf.predict(X_test)\n",
    "y_proba_rf = rf_clf.predict_proba(X_test)[:, 1]\n",
    "\n",
    "rf_metrics = {\n",
    "    'Accuracy': accuracy_score(y_test, y_pred_rf),\n",
    "    'Precision': precision_score(y_test, y_pred_rf, zero_division=0),\n",
    "    'Recall': recall_score(y_test, y_pred_rf, zero_division=0),\n",
    "    'F1': f1_score(y_test, y_pred_rf, zero_division=0),\n",
    "    'ROC_AUC': roc_auc_score(y_test, y_proba_rf)\n",
    "}\n",
    "rf_metrics"
   ]
  },
  {
   "cell_type": "code",
   "execution_count": 5,
   "id": "58029c27",
   "metadata": {},
   "outputs": [
    {
     "data": {
      "text/html": [
       "<div>\n",
       "<style scoped>\n",
       "    .dataframe tbody tr th:only-of-type {\n",
       "        vertical-align: middle;\n",
       "    }\n",
       "\n",
       "    .dataframe tbody tr th {\n",
       "        vertical-align: top;\n",
       "    }\n",
       "\n",
       "    .dataframe thead th {\n",
       "        text-align: right;\n",
       "    }\n",
       "</style>\n",
       "<table border=\"1\" class=\"dataframe\">\n",
       "  <thead>\n",
       "    <tr style=\"text-align: right;\">\n",
       "      <th></th>\n",
       "      <th>Model</th>\n",
       "      <th>Accuracy</th>\n",
       "      <th>Precision</th>\n",
       "      <th>Recall</th>\n",
       "      <th>F1</th>\n",
       "      <th>ROC_AUC</th>\n",
       "    </tr>\n",
       "  </thead>\n",
       "  <tbody>\n",
       "    <tr>\n",
       "      <th>0</th>\n",
       "      <td>Logistic Regression</td>\n",
       "      <td>0.809000</td>\n",
       "      <td>0.700590</td>\n",
       "      <td>0.238574</td>\n",
       "      <td>0.355939</td>\n",
       "      <td>0.712463</td>\n",
       "    </tr>\n",
       "    <tr>\n",
       "      <th>1</th>\n",
       "      <td>Random Forest</td>\n",
       "      <td>0.815889</td>\n",
       "      <td>0.645979</td>\n",
       "      <td>0.371170</td>\n",
       "      <td>0.471451</td>\n",
       "      <td>0.749849</td>\n",
       "    </tr>\n",
       "  </tbody>\n",
       "</table>\n",
       "</div>"
      ],
      "text/plain": [
       "                 Model  Accuracy  Precision    Recall        F1   ROC_AUC\n",
       "0  Logistic Regression  0.809000   0.700590  0.238574  0.355939  0.712463\n",
       "1        Random Forest  0.815889   0.645979  0.371170  0.471451  0.749849"
      ]
     },
     "execution_count": 5,
     "metadata": {},
     "output_type": "execute_result"
    }
   ],
   "source": [
    "# 5) Combined metrics table\n",
    "metrics_df = pd.DataFrame([{'Model':'Logistic Regression', **log_metrics},\n",
    "                           {'Model':'Random Forest', **rf_metrics}])\n",
    "metrics_df"
   ]
  },
  {
   "cell_type": "code",
   "execution_count": 6,
   "id": "0f8d8160",
   "metadata": {},
   "outputs": [
    {
     "data": {
      "image/png": "[encoded data removed]",
      "text/plain": [
       "<Figure size 504x360 with 1 Axes>"
      ]
     },
     "metadata": {
      "needs_background": "light"
     },
     "output_type": "display_data"
    }
   ],
   "source": [
    "# 6) ROC curves (single chart)\n",
    "fpr_log, tpr_log, _ = roc_curve(y_test, y_proba_log)\n",
    "fpr_rf, tpr_rf, _ = roc_curve(y_test, y_proba_rf)\n",
    "\n",
    "plt.figure(figsize=(7,5))\n",
    "plt.plot(fpr_log, tpr_log, label='LogReg')\n",
    "plt.plot(fpr_rf, tpr_rf, label='RandomForest')\n",
    "plt.plot([0,1], [0,1], linestyle='--')\n",
    "plt.xlabel('False Positive Rate')\n",
    "plt.ylabel('True Positive Rate')\n",
    "plt.title('ROC Curve')\n",
    "plt.legend(loc='lower right')\n",
    "plt.show()"
   ]
  },
  {
   "cell_type": "code",
   "execution_count": 7,
   "id": "ec073d85",
   "metadata": {},
   "outputs": [
    {
     "data": {
      "image/png": "[encoded data removed]",
      "text/plain": [
       "<Figure size 288x288 with 2 Axes>"
      ]
     },
     "metadata": {
      "needs_background": "light"
     },
     "output_type": "display_data"
    }
   ],
   "source": [
    "# 7) Confusion matrix — Logistic Regression (separate chart)\n",
    "cm_log = confusion_matrix(y_test, y_pred_log)\n",
    "plt.figure(figsize=(4,4))\n",
    "plt.imshow(cm_log, interpolation='nearest')\n",
    "plt.title('Confusion Matrix — Logistic Regression')\n",
    "plt.xlabel('Predicted')\n",
    "plt.ylabel('Actual')\n",
    "for (i, j), val in np.ndenumerate(cm_log):\n",
    "    plt.text(j, i, int(val), ha='center', va='center')\n",
    "plt.colorbar()\n",
    "plt.show()"
   ]
  },
  {
   "cell_type": "code",
   "execution_count": 8,
   "id": "7612392f",
   "metadata": {},
   "outputs": [
    {
     "data": {
      "image/png": "[encoded data removed]",
      "text/plain": [
       "<Figure size 288x288 with 2 Axes>"
      ]
     },
     "metadata": {
      "needs_background": "light"
     },
     "output_type": "display_data"
    }
   ],
   "source": [
    "# 8) Confusion matrix — Random Forest (separate chart)\n",
    "cm_rf = confusion_matrix(y_test, y_pred_rf)\n",
    "plt.figure(figsize=(4,4))\n",
    "plt.imshow(cm_rf, interpolation='nearest')\n",
    "plt.title('Confusion Matrix — Random Forest')\n",
    "plt.xlabel('Predicted')\n",
    "plt.ylabel('Actual')\n",
    "for (i, j), val in np.ndenumerate(cm_rf):\n",
    "    plt.text(j, i, int(val), ha='center', va='center')\n",
    "plt.colorbar()\n",
    "plt.show()"
   ]
  },
  {
   "cell_type": "code",
   "execution_count": 9,
   "id": "d82bcdf8",
   "metadata": {},
   "outputs": [
    {
     "data": {
      "text/plain": [
       "X6     0.101748\n",
       "X5     0.075769\n",
       "X12    0.064201\n",
       "X13    0.056301\n",
       "X17    0.054248\n",
       "X14    0.054080\n",
       "X18    0.053914\n",
       "X16    0.053605\n",
       "X15    0.052535\n",
       "X19    0.051239\n",
       "X20    0.050033\n",
       "X23    0.049667\n",
       "X7     0.049426\n",
       "X22    0.046716\n",
       "X21    0.045431\n",
       "X8     0.026527\n",
       "X9     0.023529\n",
       "X10    0.022559\n",
       "X3     0.021442\n",
       "X11    0.020107\n",
       "dtype: float64"
      ]
     },
     "execution_count": 9,
     "metadata": {},
     "output_type": "execute_result"
    }
   ],
   "source": [
    "# 9) Feature effects / importances\n",
    "importances = pd.Series(rf_clf.feature_importances_, index=X.columns).sort_values(ascending=False)\n",
    "importances.head(20)"
   ]
  },
  {
   "cell_type": "code",
   "execution_count": 10,
   "id": "3b021c2f",
   "metadata": {},
   "outputs": [
    {
     "data": {
      "text/plain": [
       "X6     0.657902\n",
       "X12   -0.343398\n",
       "X19   -0.275294\n",
       "X18   -0.163523\n",
       "X14    0.119374\n",
       "X7     0.117459\n",
       "X8     0.092731\n",
       "X3    -0.074115\n",
       "X4    -0.070476\n",
       "X9     0.061782\n",
       "X2    -0.054850\n",
       "X21   -0.054679\n",
       "X23   -0.050931\n",
       "X5     0.048220\n",
       "X17    0.040441\n",
       "X22   -0.037374\n",
       "X15    0.036144\n",
       "X20   -0.034904\n",
       "X11    0.032232\n",
       "X10    0.020406\n",
       "X16   -0.019304\n",
       "X13    0.009842\n",
       "dtype: float64"
      ]
     },
     "execution_count": 10,
     "metadata": {},
     "output_type": "execute_result"
    }
   ],
   "source": [
    "# 10) Logistic coefficients on standardized scale\n",
    "logreg = log_reg_pipe.named_steps['logreg']\n",
    "coef = pd.Series(logreg.coef_.ravel(), index=X.columns).sort_values(key=abs, ascending=False)\n",
    "coef"
   ]
  },
  {
   "cell_type": "markdown",
   "id": "8efa060b",
   "metadata": {},
   "source": [
    "### Notes\n",
    "- If you still see convergence warnings for Logistic Regression, you can:\n",
    "  1. Increase `max_iter` to `10000`.\n",
    "  2. Switch to `solver='saga'` (works well for large datasets and L1/L2 penalties).\n",
    "  3. Use `class_weight='balanced'` if your target is imbalanced.\n",
    "- Random Forest hyperparameters above are reasonable defaults for ~30k rows; you can tune `n_estimators` and `max_depth` for speed/accuracy trade-offs."
   ]
  }
 ],
 "metadata": {
  "kernelspec": {
   "display_name": "Python 3 (ipykernel)",
   "language": "python",
   "name": "python3"
  },
  "language_info": {
   "codemirror_mode": {
    "name": "ipython",
    "version": 3
   },
   "file_extension": ".py",
   "mimetype": "text/x-python",
   "name": "python",
   "nbconvert_exporter": "python",
   "pygments_lexer": "ipython3",
   "version": "3.9.7"
  }
 },
 "nbformat": 4,
 "nbformat_minor": 5
}
